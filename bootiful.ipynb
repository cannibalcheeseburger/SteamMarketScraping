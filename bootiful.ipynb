{
 "nbformat": 4,
 "nbformat_minor": 2,
 "metadata": {
  "language_info": {
   "name": "python",
   "codemirror_mode": {
    "name": "ipython",
    "version": 3
   },
   "version": "3.7.6-final"
  },
  "orig_nbformat": 2,
  "file_extension": ".py",
  "mimetype": "text/x-python",
  "name": "python",
  "npconvert_exporter": "python",
  "pygments_lexer": "ipython3",
  "version": 3,
  "kernelspec": {
   "name": "python37664bit1d7ef2e8cff042f78a509e385ee1219d",
   "display_name": "Python 3.7.6 64-bit"
  }
 },
 "cells": [
  {
   "cell_type": "code",
   "execution_count": 12,
   "metadata": {},
   "outputs": [],
   "source": [
    "from urllib.request import urlopen as uReq\n",
    "from bs4 import BeautifulSoup as soup \n",
    "url = 'https://steamcommunity.com/market/'\n",
    "uClient = uReq(url)\n",
    "page_html = uClient.read()\n",
    "uClient.close()\n",
    "page_soup = soup(page_html,\"html.parser\")"
   ]
  },
  {
   "cell_type": "code",
   "execution_count": 13,
   "metadata": {},
   "outputs": [],
   "source": [
    "containers = page_soup.findAll(\"div\",{\"class\":\"market_listing_row market_recent_listing_row market_listing_searchresult\"})"
   ]
  },
  {
   "cell_type": "code",
   "execution_count": 4,
   "metadata": {},
   "outputs": [
    {
     "ename": "IndentationError",
     "evalue": "unindent does not match any outer indentation level (<tokenize>, line 4)",
     "output_type": "error",
     "traceback": [
      "\u001b[1;36m  File \u001b[1;32m\"<tokenize>\"\u001b[1;36m, line \u001b[1;32m4\u001b[0m\n\u001b[1;33m    <div class=\"market_listing_right_cell market_listing_num_listings\">\u001b[0m\n\u001b[1;37m    ^\u001b[0m\n\u001b[1;31mIndentationError\u001b[0m\u001b[1;31m:\u001b[0m unindent does not match any outer indentation level\n"
     ]
    }
   ],
   "source": [
    "<div class=\"market_listing_row market_recent_listing_row market_listing_searchresult\" id=\"result_0\" data-appid=\"570\" data-hash-name=\"Dragonclaw Hook\">\n",
    "\t\t\t\t<img id=\"result_0_image\" src=\"https://steamcommunity-a.akamaihd.net/economy/image/-9a81dlWLwJ2UUGcVs_nsVtzdOEdtWwKGZZLQHTxDZ7I56KW1Zwwo4NUX4oFJZEHLbXK9QlSPcUivB9aSQPAUuCq0vDAWFh4IBBYuIWtJAhr7PHHdSQMu93iwIbbxqWnNejQw2gB6ZEnjO-UoNrx0AHgqkZkN2HzJ4_DI1M3ZEaQpAYWJ6NyKA/62fx62f\" srcset=\"https://steamcommunity-a.akamaihd.net/economy/image/-9a81dlWLwJ2UUGcVs_nsVtzdOEdtWwKGZZLQHTxDZ7I56KW1Zwwo4NUX4oFJZEHLbXK9QlSPcUivB9aSQPAUuCq0vDAWFh4IBBYuIWtJAhr7PHHdSQMu93iwIbbxqWnNejQw2gB6ZEnjO-UoNrx0AHgqkZkN2HzJ4_DI1M3ZEaQpAYWJ6NyKA/62fx62f 1x, https://steamcommunity-a.akamaihd.net/economy/image/-9a81dlWLwJ2UUGcVs_nsVtzdOEdtWwKGZZLQHTxDZ7I56KW1Zwwo4NUX4oFJZEHLbXK9QlSPcUivB9aSQPAUuCq0vDAWFh4IBBYuIWtJAhr7PHHdSQMu93iwIbbxqWnNejQw2gB6ZEnjO-UoNrx0AHgqkZkN2HzJ4_DI1M3ZEaQpAYWJ6NyKA/62fx62fdpx2x 2x\" style=\"border-color: #D2D2D2;\" class=\"market_listing_item_img\" alt=\"\">\t\t\n",
    "\t\t\t\t<div class=\"market_listing_price_listings_block\">\n",
    "\t\t\t<div class=\"market_listing_right_cell market_listing_num_listings\">\n",
    "\t\t\t\t<span class=\"market_table_value\">\n",
    "\t\t\t\t\t<span class=\"market_listing_num_listings_qty\" data-qty=\"37\">37</span>\n",
    "\t\t\t\t</span>\n",
    "\t\t\t</div>\n",
    "\t\t\t<div class=\"market_listing_right_cell market_listing_their_price\">\n",
    "\t\t\t\t<span class=\"market_table_value normal_price\">\n",
    "\t\t\t\t\tStarting at:<br>\n",
    "\t\t\t\t\t<span class=\"normal_price\" data-price=\"88263\" data-currency=\"1\">$882.63 USD</span>\n",
    "\t\t\t\t\t<span class=\"sale_price\">$844.26 USD</span>\n",
    "\t\t\t\t</span>\n",
    "\t\t\t\t<span class=\"market_arrow_down\" style=\"display: none\"></span>\n",
    "\t\t\t\t<span class=\"market_arrow_up\" style=\"display: none\"></span>\n",
    "\t\t\t</div>\n",
    "\t\t</div>\n",
    "\n",
    "\t\t\t\t<div class=\"market_listing_item_name_block\">\n",
    "\t\t\t<span id=\"result_0_name\" class=\"market_listing_item_name\" style=\"color: #D2D2D2;\">Dragonclaw Hook</span>\n",
    "\t\t\t<br>\n",
    "\t\t\t<span class=\"market_listing_game_name\">Dota 2</span>\n",
    "\t\t</div>\n",
    "\t\t<div style=\"clear: both\"></div>\n",
    "\t</div>"
   ]
  },
  {
   "cell_type": "code",
   "execution_count": 23,
   "metadata": {},
   "outputs": [],
   "source": [
    "test = container.findAll(\"span\",{\"class\":\"market_listing_item_name\"})"
   ]
  },
  {
   "cell_type": "code",
   "execution_count": 27,
   "metadata": {},
   "outputs": [
    {
     "data": {
      "text/plain": "'Shattered Web Case'"
     },
     "execution_count": 27,
     "metadata": {},
     "output_type": "execute_result"
    }
   ],
   "source": [
    "test[0].text"
   ]
  },
  {
   "cell_type": "code",
   "execution_count": 18,
   "metadata": {},
   "outputs": [
    {
     "data": {
      "text/plain": "'\\n\\n\\n\\n\\n61,027\\n\\n\\n\\n\\r\\n\\t\\t\\t\\t\\tStarting at:\\n$0.66 USD\\n$0.64 USD\\n\\n\\n\\n\\n\\n\\nShattered Web Case\\n\\nCounter-Strike: Global Offensive\\n\\n\\n'"
     },
     "execution_count": 18,
     "metadata": {},
     "output_type": "execute_result"
    }
   ],
   "source": [
    "container.text.replace(\",\")"
   ]
  },
  {
   "cell_type": "code",
   "execution_count": 16,
   "metadata": {},
   "outputs": [
    {
     "data": {
      "text/plain": "<span class=\"market_table_value\">\n<span class=\"market_listing_num_listings_qty\" data-qty=\"61027\">61,027</span>\n</span>"
     },
     "execution_count": 16,
     "metadata": {},
     "output_type": "execute_result"
    }
   ],
   "source": [
    "container.span"
   ]
  },
  {
   "cell_type": "code",
   "execution_count": 36,
   "metadata": {},
   "outputs": [],
   "source": [
    "price_container = container.findAll(\"span\",{\"class\":\"sale_price\"})"
   ]
  },
  {
   "cell_type": "code",
   "execution_count": 38,
   "metadata": {},
   "outputs": [
    {
     "data": {
      "text/plain": "'$0.64 USD'"
     },
     "execution_count": 38,
     "metadata": {},
     "output_type": "execute_result"
    }
   ],
   "source": [
    "price_container[0].text"
   ]
  },
  {
   "cell_type": "code",
   "execution_count": 40,
   "metadata": {},
   "outputs": [],
   "source": [
    "game_container = container.findAll(\"span\",{\"class\":\"market_listing_game_name\"})"
   ]
  },
  {
   "cell_type": "code",
   "execution_count": 43,
   "metadata": {},
   "outputs": [
    {
     "data": {
      "text/plain": "'Counter-Strike: Global Offensive'"
     },
     "execution_count": 43,
     "metadata": {},
     "output_type": "execute_result"
    }
   ],
   "source": [
    "game_container[0].text"
   ]
  },
  {
   "cell_type": "code",
   "execution_count": null,
   "metadata": {},
   "outputs": [],
   "source": []
  }
 ]
}