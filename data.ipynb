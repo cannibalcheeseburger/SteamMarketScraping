{
 "nbformat": 4,
 "nbformat_minor": 2,
 "metadata": {
  "language_info": {
   "name": "python",
   "codemirror_mode": {
    "name": "ipython",
    "version": 3
   },
   "version": "3.7.6-final"
  },
  "orig_nbformat": 2,
  "file_extension": ".py",
  "mimetype": "text/x-python",
  "name": "python",
  "npconvert_exporter": "python",
  "pygments_lexer": "ipython3",
  "version": 3,
  "kernelspec": {
   "name": "python37664bit1d7ef2e8cff042f78a509e385ee1219d",
   "display_name": "Python 3.7.6 64-bit"
  }
 },
 "cells": [
  {
   "cell_type": "code",
   "execution_count": null,
   "metadata": {},
   "outputs": [],
   "source": []
  },
  {
   "cell_type": "code",
   "execution_count": 6,
   "metadata": {},
   "outputs": [],
   "source": [
    "import pandas as pd"
   ]
  },
  {
   "cell_type": "code",
   "execution_count": 7,
   "metadata": {},
   "outputs": [],
   "source": [
    "df = pd.read_csv(\"Steam.csv\")"
   ]
  },
  {
   "cell_type": "code",
   "execution_count": 8,
   "metadata": {},
   "outputs": [
    {
     "data": {
      "text/html": "<div>\n<style scoped>\n    .dataframe tbody tr th:only-of-type {\n        vertical-align: middle;\n    }\n\n    .dataframe tbody tr th {\n        vertical-align: top;\n    }\n\n    .dataframe thead th {\n        text-align: right;\n    }\n</style>\n<table border=\"1\" class=\"dataframe\">\n  <thead>\n    <tr style=\"text-align: right;\">\n      <th></th>\n      <th>Item_name</th>\n      <th>Price</th>\n      <th>Quantity</th>\n      <th>Game</th>\n    </tr>\n  </thead>\n  <tbody>\n    <tr>\n      <th>0</th>\n      <td>Shattered Web Case</td>\n      <td>$0.66 USD</td>\n      <td>61239</td>\n      <td>Counter-Strike: Global Offensive</td>\n    </tr>\n    <tr>\n      <th>1</th>\n      <td>Operation Breakout Weapon Case</td>\n      <td>$0.61 USD</td>\n      <td>63467</td>\n      <td>Counter-Strike: Global Offensive</td>\n    </tr>\n    <tr>\n      <th>2</th>\n      <td>Mann Co. Supply Crate Key</td>\n      <td>$2.28 USD</td>\n      <td>5404</td>\n      <td>Team Fortress 2</td>\n    </tr>\n    <tr>\n      <th>3</th>\n      <td>Glove Case</td>\n      <td>$0.20 USD</td>\n      <td>188506</td>\n      <td>Counter-Strike: Global Offensive</td>\n    </tr>\n    <tr>\n      <th>4</th>\n      <td>Spectrum Case</td>\n      <td>$0.12 USD</td>\n      <td>332188</td>\n      <td>Counter-Strike: Global Offensive</td>\n    </tr>\n    <tr>\n      <th>...</th>\n      <td>...</td>\n      <td>...</td>\n      <td>...</td>\n      <td>...</td>\n    </tr>\n    <tr>\n      <th>95</th>\n      <td>CS20 Case</td>\n      <td>$0.08 USD</td>\n      <td>280882</td>\n      <td>Counter-Strike: Global Offensive</td>\n    </tr>\n    <tr>\n      <th>96</th>\n      <td>Operation Phoenix Weapon Case</td>\n      <td>$0.42 USD</td>\n      <td>95930</td>\n      <td>Counter-Strike: Global Offensive</td>\n    </tr>\n    <tr>\n      <th>97</th>\n      <td>Clutch Case</td>\n      <td>$0.05 USD</td>\n      <td>873582</td>\n      <td>Counter-Strike: Global Offensive</td>\n    </tr>\n    <tr>\n      <th>98</th>\n      <td>Special Agent Ava | FBI</td>\n      <td>$8.86 USD</td>\n      <td>703</td>\n      <td>Counter-Strike: Global Offensive</td>\n    </tr>\n    <tr>\n      <th>99</th>\n      <td>AWP | Atheris (Field-Tested)</td>\n      <td>$4.31 USD</td>\n      <td>1313</td>\n      <td>Counter-Strike: Global Offensive</td>\n    </tr>\n  </tbody>\n</table>\n<p>100 rows × 4 columns</p>\n</div>",
      "text/plain": "                         Item_name      Price   Quantity  \\\n0               Shattered Web Case  $0.66 USD      61239   \n1   Operation Breakout Weapon Case  $0.61 USD      63467   \n2        Mann Co. Supply Crate Key  $2.28 USD       5404   \n3                       Glove Case  $0.20 USD     188506   \n4                    Spectrum Case  $0.12 USD     332188   \n..                             ...        ...        ...   \n95                       CS20 Case  $0.08 USD     280882   \n96   Operation Phoenix Weapon Case  $0.42 USD      95930   \n97                     Clutch Case  $0.05 USD     873582   \n98         Special Agent Ava | FBI  $8.86 USD        703   \n99    AWP | Atheris (Field-Tested)  $4.31 USD       1313   \n\n                                Game  \n0   Counter-Strike: Global Offensive  \n1   Counter-Strike: Global Offensive  \n2                    Team Fortress 2  \n3   Counter-Strike: Global Offensive  \n4   Counter-Strike: Global Offensive  \n..                               ...  \n95  Counter-Strike: Global Offensive  \n96  Counter-Strike: Global Offensive  \n97  Counter-Strike: Global Offensive  \n98  Counter-Strike: Global Offensive  \n99  Counter-Strike: Global Offensive  \n\n[100 rows x 4 columns]"
     },
     "execution_count": 8,
     "metadata": {},
     "output_type": "execute_result"
    }
   ],
   "source": [
    "df"
   ]
  },
  {
   "cell_type": "code",
   "execution_count": null,
   "metadata": {},
   "outputs": [],
   "source": []
  }
 ]
}