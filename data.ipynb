{
 "nbformat": 4,
 "nbformat_minor": 2,
 "metadata": {
  "language_info": {
   "name": "python",
   "codemirror_mode": {
    "name": "ipython",
    "version": 3
   },
   "version": "3.7.6-final"
  },
  "orig_nbformat": 2,
  "file_extension": ".py",
  "mimetype": "text/x-python",
  "name": "python",
  "npconvert_exporter": "python",
  "pygments_lexer": "ipython3",
  "version": 3,
  "kernelspec": {
   "name": "python37664bit1d7ef2e8cff042f78a509e385ee1219d",
   "display_name": "Python 3.7.6 64-bit"
  }
 },
 "cells": [
  {
   "cell_type": "code",
   "execution_count": null,
   "metadata": {},
   "outputs": [],
   "source": []
  },
  {
   "cell_type": "code",
   "execution_count": 1,
   "metadata": {},
   "outputs": [],
   "source": [
    "import pandas as pd"
   ]
  },
  {
   "cell_type": "code",
   "execution_count": 5,
   "metadata": {},
   "outputs": [],
   "source": [
    "df = pd.read_csv(\"Steam.csv\")"
   ]
  },
  {
   "cell_type": "code",
   "execution_count": 7,
   "metadata": {},
   "outputs": [
    {
     "data": {
      "text/html": "<div>\n<style scoped>\n    .dataframe tbody tr th:only-of-type {\n        vertical-align: middle;\n    }\n\n    .dataframe tbody tr th {\n        vertical-align: top;\n    }\n\n    .dataframe thead th {\n        text-align: right;\n    }\n</style>\n<table border=\"1\" class=\"dataframe\">\n  <thead>\n    <tr style=\"text-align: right;\">\n      <th></th>\n      <th>Item_name</th>\n      <th>Price</th>\n      <th>Quantity</th>\n      <th>Game</th>\n    </tr>\n  </thead>\n  <tbody>\n    <tr>\n      <th>0</th>\n      <td>Shattered Web Case</td>\n      <td>$0.63 USD</td>\n      <td>61076</td>\n      <td>Counter-Strike: Global Offensive</td>\n    </tr>\n    <tr>\n      <th>1</th>\n      <td>Operation Breakout Weapon Case</td>\n      <td>$0.63 USD</td>\n      <td>63055</td>\n      <td>Counter-Strike: Global Offensive</td>\n    </tr>\n    <tr>\n      <th>2</th>\n      <td>Glove Case</td>\n      <td>$0.20 USD</td>\n      <td>187754</td>\n      <td>Counter-Strike: Global Offensive</td>\n    </tr>\n    <tr>\n      <th>3</th>\n      <td>Spectrum Case</td>\n      <td>$0.12 USD</td>\n      <td>333074</td>\n      <td>Counter-Strike: Global Offensive</td>\n    </tr>\n    <tr>\n      <th>4</th>\n      <td>Mann Co. Supply Crate Key</td>\n      <td>$2.31 USD</td>\n      <td>5128</td>\n      <td>Team Fortress 2</td>\n    </tr>\n    <tr>\n      <th>5</th>\n      <td>CZ75-Auto | Polymer (Minimal Wear)</td>\n      <td>$0.17 USD</td>\n      <td>627</td>\n      <td>Counter-Strike: Global Offensive</td>\n    </tr>\n    <tr>\n      <th>6</th>\n      <td>AK-47 | Redline (Field-Tested)</td>\n      <td>$13.77 USD</td>\n      <td>1187</td>\n      <td>Counter-Strike: Global Offensive</td>\n    </tr>\n    <tr>\n      <th>7</th>\n      <td>Clutch Case</td>\n      <td>$0.05 USD</td>\n      <td>882035</td>\n      <td>Counter-Strike: Global Offensive</td>\n    </tr>\n    <tr>\n      <th>8</th>\n      <td>Operation Bravo Case</td>\n      <td>$22.56 USD</td>\n      <td>393</td>\n      <td>Counter-Strike: Global Offensive</td>\n    </tr>\n    <tr>\n      <th>9</th>\n      <td>AWP | Atheris (Field-Tested)</td>\n      <td>$3.96 USD</td>\n      <td>1326</td>\n      <td>Counter-Strike: Global Offensive</td>\n    </tr>\n  </tbody>\n</table>\n</div>",
      "text/plain": "                            Item_name       Price   Quantity  \\\n0                  Shattered Web Case   $0.63 USD      61076   \n1      Operation Breakout Weapon Case   $0.63 USD      63055   \n2                          Glove Case   $0.20 USD     187754   \n3                       Spectrum Case   $0.12 USD     333074   \n4           Mann Co. Supply Crate Key   $2.31 USD       5128   \n5  CZ75-Auto | Polymer (Minimal Wear)   $0.17 USD        627   \n6      AK-47 | Redline (Field-Tested)  $13.77 USD       1187   \n7                         Clutch Case   $0.05 USD     882035   \n8                Operation Bravo Case  $22.56 USD        393   \n9        AWP | Atheris (Field-Tested)   $3.96 USD       1326   \n\n                               Game  \n0  Counter-Strike: Global Offensive  \n1  Counter-Strike: Global Offensive  \n2  Counter-Strike: Global Offensive  \n3  Counter-Strike: Global Offensive  \n4                   Team Fortress 2  \n5  Counter-Strike: Global Offensive  \n6  Counter-Strike: Global Offensive  \n7  Counter-Strike: Global Offensive  \n8  Counter-Strike: Global Offensive  \n9  Counter-Strike: Global Offensive  "
     },
     "execution_count": 7,
     "metadata": {},
     "output_type": "execute_result"
    }
   ],
   "source": [
    "df"
   ]
  },
  {
   "cell_type": "code",
   "execution_count": null,
   "metadata": {},
   "outputs": [],
   "source": []
  }
 ]
}